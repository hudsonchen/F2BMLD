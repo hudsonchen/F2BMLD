{
 "cells": [
  {
   "cell_type": "code",
   "execution_count": 1,
   "id": "6a9b3460",
   "metadata": {},
   "outputs": [],
   "source": [
    "import numpy as np\n",
    "import matplotlib.pyplot as plt\n",
    "import os\n",
    "os.chdir(\"/home/zongchen/F2BMLD\")\n",
    "import matplotlib.cm as cm\n",
    "import matplotlib\n",
    "import sys\n",
    "sys.path.append(\"/home/zongchen/F2BMLD\")\n",
    "import torch\n",
    "import torch.nn as nn\n",
    "import torch.nn.functional as F\n",
    "from typing import Sequence, Tuple\n",
    "from functools import partial\n",
    "from tqdm import tqdm\n",
    "\n",
    "plt.rcParams['axes.grid'] = True\n",
    "plt.rcParams['font.family'] = 'DeJavu Serif'\n",
    "plt.rcParams['font.serif'] = ['Times New Roman']\n",
    "plt.rcParams['axes.labelsize'] = 18\n",
    "plt.rc('text', usetex=True)\n",
    "plt.rc('text.latex', preamble=r'\\usepackage{amsmath, amsfonts}')\n",
    "\n",
    "# plt.rc('font', family='Arial', size=12)\n",
    "plt.rc('axes', titlesize=16, labelsize=18, grid=True)\n",
    "plt.rc('lines', linewidth=2)\n",
    "plt.rc('legend', fontsize=18, frameon=False)\n",
    "plt.rc('xtick', labelsize=14, direction='in')\n",
    "plt.rc('ytick', labelsize=14, direction='in')\n",
    "plt.rc('figure', figsize=(6, 4), dpi=100)"
   ]
  },
  {
   "cell_type": "code",
   "execution_count": 2,
   "id": "11888b58",
   "metadata": {},
   "outputs": [],
   "source": [
    "import gymnasium as gym\n",
    "from methods import dfiv, f2bmld\n",
    "import utils\n",
    "from utils import load_pretrained_dqn\n",
    "env = gym.make(\"CartPole-v1\")\n",
    "\n",
    "env_spec = {\n",
    "        \"obs_dim\": 4,\n",
    "        \"act_dim\": 2,\n",
    "        \"obs_space\": env.observation_space,\n",
    "        \"act_space\": env.action_space,\n",
    "    }\n",
    "\n",
    "value_layer_sizes = \"50, 50\"\n",
    "instrumental_layer_sizes= \"50, 50\"\n",
    "device = torch.device(\"cuda\" if torch.cuda.is_available() else \"cpu\")\n",
    "\n",
    "value_func, instrumental_feature = dfiv.bsuite_network.make_value_func_bsuite(\n",
    "    env_spec, value_layer_sizes, instrumental_layer_sizes, device\n",
    ")\n",
    "\n",
    "treatment_net = f2bmld.bsuite_network.TreatmentNetwork(env_spec, layer_sizes=[50, 1]).to(device)\n",
    "\n",
    "def target_policy(obs_batch: torch.Tensor, policy_dqn: torch.nn.Module, epsilon) -> torch.Tensor:\n",
    "    \"\"\"\n",
    "    Policy that follows the trained DQN policy but with probability epsilon takes a random action.\n",
    "    \"\"\"\n",
    "    with torch.no_grad():\n",
    "        greedy_actions = policy_dqn(obs_batch).argmax(dim=-1)  # [batch]\n",
    "    \n",
    "    random_mask = torch.rand(len(obs_batch)) < epsilon\n",
    "    random_actions = torch.randint(0, 2, size=(len(obs_batch),), dtype=torch.long).to(obs_batch.device)\n",
    "    final_actions = greedy_actions.clone()\n",
    "    final_actions[random_mask] = random_actions[random_mask]\n",
    "    return final_actions\n",
    "\n",
    "class RandomActionWrapper(gym.Wrapper):\n",
    "    \"\"\"With probability `eps`, take a random action instead of the policy's action.\"\"\"\n",
    "    def __init__(self, env, eps=0.1):\n",
    "        super().__init__(env)\n",
    "        self.eps = eps\n",
    "\n",
    "    def step(self, action):\n",
    "        if np.random.rand() < self.eps:\n",
    "            action = self.env.action_space.sample()\n",
    "        return self.env.step(action)"
   ]
  },
  {
   "cell_type": "code",
   "execution_count": 3,
   "id": "4f18bb57",
   "metadata": {},
   "outputs": [],
   "source": [
    "def eval(environment, policy, value_func, num_init_samples, device):\n",
    "    q0s = []\n",
    "    for _ in tqdm(range(num_init_samples)):\n",
    "        obs, _ = environment.reset()\n",
    "        obs_tensor = torch.tensor(obs, dtype=torch.float32, device=device).unsqueeze(0)\n",
    "        action = policy(obs_tensor)\n",
    "        q0 = value_func(obs_tensor, action).item()\n",
    "        q0s.append(q0)\n",
    "\n",
    "    q0s = np.array(q0s)\n",
    "    return q0s.mean()\n",
    "\n",
    "\n",
    "def estimate_true_value(policy, environment, discount=0.99, \n",
    "                        num_episodes=100, device=\"cpu\"):\n",
    "    \"\"\"\n",
    "    Estimate the true discounted return of a policy by Monte Carlo rollouts.\n",
    "\n",
    "    Args:\n",
    "        policy: Callable/nn.Module mapping obs -> action (PyTorch).\n",
    "        environment: Gym-like env with reset() and step().\n",
    "        discount: float, discount factor.\n",
    "        num_episodes: int, number of episodes to average over.\n",
    "        device: str, \"cpu\" or \"cuda\".\n",
    "\n",
    "    Returns:\n",
    "        mean_return: average discounted return across episodes.\n",
    "        stderr_return: standard error of returns.\n",
    "    \"\"\"\n",
    "    returns = []\n",
    "    for _ in tqdm(range(num_episodes)):\n",
    "        obs, _ = environment.reset()\n",
    "        done, ep_return, t = False, 0.0, 0\n",
    "\n",
    "        while not done:\n",
    "            obs_tensor = torch.tensor(obs, dtype=torch.float32, device=device).unsqueeze(0)\n",
    "            action = policy(obs_tensor)\n",
    "\n",
    "            # handle discrete vs continuous\n",
    "            if isinstance(action, torch.Tensor):\n",
    "                if action.numel() == 1:  # discrete scalar\n",
    "                    action = int(action.item())\n",
    "                else:  # e.g. policy outputs logits/probs\n",
    "                    action = int(torch.argmax(action, dim=-1).item())\n",
    "\n",
    "            next_obs, reward, terminated, truncated, _ = environment.step(action)\n",
    "            done = terminated or truncated\n",
    "            ep_return += (discount ** t) * reward\n",
    "            obs = next_obs\n",
    "            t += 1\n",
    "\n",
    "        returns.append(ep_return)\n",
    "\n",
    "    mean_return = float(np.mean(returns))\n",
    "    return mean_return, float(np.std(returns)) / np.sqrt(num_episodes)"
   ]
  },
  {
   "cell_type": "code",
   "execution_count": null,
   "id": "c4939771",
   "metadata": {},
   "outputs": [
    {
     "name": "stderr",
     "output_type": "stream",
     "text": [
      "  0%|          | 0/100 [00:00<?, ?it/s]"
     ]
    },
    {
     "name": "stderr",
     "output_type": "stream",
     "text": [
      "100%|██████████| 100/100 [00:11<00:00,  9.08it/s]\n",
      "100%|██████████| 1000/1000 [00:00<00:00, 2581.89it/s]\n",
      "100%|██████████| 1000/1000 [00:00<00:00, 2805.01it/s]\n",
      "100%|██████████| 1000/1000 [00:00<00:00, 2791.77it/s]\n",
      "100%|██████████| 1000/1000 [00:00<00:00, 2803.48it/s]\n",
      "100%|██████████| 1000/1000 [00:00<00:00, 2808.51it/s]\n",
      "100%|██████████| 100/100 [00:10<00:00,  9.20it/s]\n"
     ]
    },
    {
     "ename": "FileNotFoundError",
     "evalue": "[Errno 2] No such file or directory: '/home/zongchen/F2BMLD/results/f2bmld_env_noise_0.1__policy_noise_0.0__lagrange_0.3__stage1_reg_1e-05__stage2_reg_1e-05__treat_lr_0.001__instr_lr_0.001__instr_iter_10__instr_tilde_iter_10__bs_1024__seed_0/treatment_net.pth'",
     "output_type": "error",
     "traceback": [
      "\u001b[0;31m---------------------------------------------------------------------------\u001b[0m",
      "\u001b[0;31mFileNotFoundError\u001b[0m                         Traceback (most recent call last)",
      "Cell \u001b[0;32mIn[4], line 27\u001b[0m\n\u001b[1;32m     25\u001b[0m path \u001b[38;5;241m+\u001b[39m\u001b[38;5;241m=\u001b[39m \u001b[38;5;124mf\u001b[39m\u001b[38;5;124m\"\u001b[39m\u001b[38;5;124m__lagrange_\u001b[39m\u001b[38;5;132;01m{\u001b[39;00mlag\u001b[38;5;132;01m}\u001b[39;00m\u001b[38;5;124m__stage1_reg_\u001b[39m\u001b[38;5;132;01m{\u001b[39;00mreg\u001b[38;5;132;01m}\u001b[39;00m\u001b[38;5;124m__stage2_reg_\u001b[39m\u001b[38;5;132;01m{\u001b[39;00mreg\u001b[38;5;132;01m}\u001b[39;00m\u001b[38;5;124m__treat_lr_0.001\u001b[39m\u001b[38;5;124m\"\u001b[39m\n\u001b[1;32m     26\u001b[0m path \u001b[38;5;241m+\u001b[39m\u001b[38;5;241m=\u001b[39m \u001b[38;5;124mf\u001b[39m\u001b[38;5;124m\"\u001b[39m\u001b[38;5;124m__instr_lr_0.001__instr_iter_10__instr_tilde_iter_10__bs_\u001b[39m\u001b[38;5;132;01m{\u001b[39;00mbs_dict[env_noise]\u001b[38;5;132;01m}\u001b[39;00m\u001b[38;5;124m__seed_\u001b[39m\u001b[38;5;132;01m{\u001b[39;00mseed\u001b[38;5;132;01m}\u001b[39;00m\u001b[38;5;124m/treatment_net.pth\u001b[39m\u001b[38;5;124m\"\u001b[39m\n\u001b[0;32m---> 27\u001b[0m treatment_net\u001b[38;5;241m.\u001b[39mload_state_dict(\u001b[43mtorch\u001b[49m\u001b[38;5;241;43m.\u001b[39;49m\u001b[43mload\u001b[49m\u001b[43m(\u001b[49m\u001b[43mpath\u001b[49m\u001b[43m,\u001b[49m\u001b[43m \u001b[49m\u001b[43mmap_location\u001b[49m\u001b[38;5;241;43m=\u001b[39;49m\u001b[43mdevice\u001b[49m\u001b[43m)\u001b[49m)\n\u001b[1;32m     29\u001b[0m estimate_value \u001b[38;5;241m=\u001b[39m \u001b[38;5;28meval\u001b[39m(environment, partial(target_policy, policy_dqn\u001b[38;5;241m=\u001b[39mpolicy_dqn, epsilon\u001b[38;5;241m=\u001b[39mpolicy_noise), treatment_net, \n\u001b[1;32m     30\u001b[0m                         num_init_samples\u001b[38;5;241m=\u001b[39m\u001b[38;5;241m1000\u001b[39m, device\u001b[38;5;241m=\u001b[39mdevice)\n\u001b[1;32m     32\u001b[0m \u001b[38;5;66;03m# print(truth_value, truth_value_ste)\u001b[39;00m\n\u001b[1;32m     33\u001b[0m \u001b[38;5;66;03m# print(estimate_value)\u001b[39;00m\n",
      "File \u001b[0;32m~/miniconda3/envs/F2BMLD/lib/python3.10/site-packages/torch/serialization.py:1484\u001b[0m, in \u001b[0;36mload\u001b[0;34m(f, map_location, pickle_module, weights_only, mmap, **pickle_load_args)\u001b[0m\n\u001b[1;32m   1481\u001b[0m \u001b[38;5;28;01mif\u001b[39;00m \u001b[38;5;124m\"\u001b[39m\u001b[38;5;124mencoding\u001b[39m\u001b[38;5;124m\"\u001b[39m \u001b[38;5;129;01mnot\u001b[39;00m \u001b[38;5;129;01min\u001b[39;00m pickle_load_args\u001b[38;5;241m.\u001b[39mkeys():\n\u001b[1;32m   1482\u001b[0m     pickle_load_args[\u001b[38;5;124m\"\u001b[39m\u001b[38;5;124mencoding\u001b[39m\u001b[38;5;124m\"\u001b[39m] \u001b[38;5;241m=\u001b[39m \u001b[38;5;124m\"\u001b[39m\u001b[38;5;124mutf-8\u001b[39m\u001b[38;5;124m\"\u001b[39m\n\u001b[0;32m-> 1484\u001b[0m \u001b[38;5;28;01mwith\u001b[39;00m \u001b[43m_open_file_like\u001b[49m\u001b[43m(\u001b[49m\u001b[43mf\u001b[49m\u001b[43m,\u001b[49m\u001b[43m \u001b[49m\u001b[38;5;124;43m\"\u001b[39;49m\u001b[38;5;124;43mrb\u001b[39;49m\u001b[38;5;124;43m\"\u001b[39;49m\u001b[43m)\u001b[49m \u001b[38;5;28;01mas\u001b[39;00m opened_file:\n\u001b[1;32m   1485\u001b[0m     \u001b[38;5;28;01mif\u001b[39;00m _is_zipfile(opened_file):\n\u001b[1;32m   1486\u001b[0m         \u001b[38;5;66;03m# The zipfile reader is going to advance the current file position.\u001b[39;00m\n\u001b[1;32m   1487\u001b[0m         \u001b[38;5;66;03m# If we want to actually tail call to torch.jit.load, we need to\u001b[39;00m\n\u001b[1;32m   1488\u001b[0m         \u001b[38;5;66;03m# reset back to the original position.\u001b[39;00m\n\u001b[1;32m   1489\u001b[0m         orig_position \u001b[38;5;241m=\u001b[39m opened_file\u001b[38;5;241m.\u001b[39mtell()\n",
      "File \u001b[0;32m~/miniconda3/envs/F2BMLD/lib/python3.10/site-packages/torch/serialization.py:759\u001b[0m, in \u001b[0;36m_open_file_like\u001b[0;34m(name_or_buffer, mode)\u001b[0m\n\u001b[1;32m    757\u001b[0m \u001b[38;5;28;01mdef\u001b[39;00m\u001b[38;5;250m \u001b[39m\u001b[38;5;21m_open_file_like\u001b[39m(name_or_buffer: FileLike, mode: \u001b[38;5;28mstr\u001b[39m) \u001b[38;5;241m-\u001b[39m\u001b[38;5;241m>\u001b[39m _opener[IO[\u001b[38;5;28mbytes\u001b[39m]]:\n\u001b[1;32m    758\u001b[0m     \u001b[38;5;28;01mif\u001b[39;00m _is_path(name_or_buffer):\n\u001b[0;32m--> 759\u001b[0m         \u001b[38;5;28;01mreturn\u001b[39;00m \u001b[43m_open_file\u001b[49m\u001b[43m(\u001b[49m\u001b[43mname_or_buffer\u001b[49m\u001b[43m,\u001b[49m\u001b[43m \u001b[49m\u001b[43mmode\u001b[49m\u001b[43m)\u001b[49m\n\u001b[1;32m    760\u001b[0m     \u001b[38;5;28;01melse\u001b[39;00m:\n\u001b[1;32m    761\u001b[0m         \u001b[38;5;28;01mif\u001b[39;00m \u001b[38;5;124m\"\u001b[39m\u001b[38;5;124mw\u001b[39m\u001b[38;5;124m\"\u001b[39m \u001b[38;5;129;01min\u001b[39;00m mode:\n",
      "File \u001b[0;32m~/miniconda3/envs/F2BMLD/lib/python3.10/site-packages/torch/serialization.py:740\u001b[0m, in \u001b[0;36m_open_file.__init__\u001b[0;34m(self, name, mode)\u001b[0m\n\u001b[1;32m    739\u001b[0m \u001b[38;5;28;01mdef\u001b[39;00m\u001b[38;5;250m \u001b[39m\u001b[38;5;21m__init__\u001b[39m(\u001b[38;5;28mself\u001b[39m, name: Union[\u001b[38;5;28mstr\u001b[39m, os\u001b[38;5;241m.\u001b[39mPathLike[\u001b[38;5;28mstr\u001b[39m]], mode: \u001b[38;5;28mstr\u001b[39m) \u001b[38;5;241m-\u001b[39m\u001b[38;5;241m>\u001b[39m \u001b[38;5;28;01mNone\u001b[39;00m:\n\u001b[0;32m--> 740\u001b[0m     \u001b[38;5;28msuper\u001b[39m()\u001b[38;5;241m.\u001b[39m\u001b[38;5;21m__init__\u001b[39m(\u001b[38;5;28;43mopen\u001b[39;49m\u001b[43m(\u001b[49m\u001b[43mname\u001b[49m\u001b[43m,\u001b[49m\u001b[43m \u001b[49m\u001b[43mmode\u001b[49m\u001b[43m)\u001b[49m)\n",
      "\u001b[0;31mFileNotFoundError\u001b[0m: [Errno 2] No such file or directory: '/home/zongchen/F2BMLD/results/f2bmld_env_noise_0.1__policy_noise_0.0__lagrange_0.3__stage1_reg_1e-05__stage2_reg_1e-05__treat_lr_0.001__instr_lr_0.001__instr_iter_10__instr_tilde_iter_10__bs_1024__seed_0/treatment_net.pth'"
     ]
    }
   ],
   "source": [
    "seed_list = [0, 1, 2, 3, 4]\n",
    "env_noise_list = [0.0, 0.1, 0.2, 0.3, 0.4]\n",
    "policy_noise_list = [0.0]\n",
    "# reg = \"0.0001\"\n",
    "reg = \"1e-05\"\n",
    "lag = 0.3\n",
    "\n",
    "f2bmld_dict = {env_noise: np.array([0.] * len(seed_list)) for env_noise in env_noise_list}\n",
    "\n",
    "bs_dict = {0.0: 1024, 0.1: 32, 0.2: 32, 0.3: 32, 0.4: 32, 0.5: 32}\n",
    "\n",
    "for env_noise in env_noise_list:\n",
    "    for policy_noise in policy_noise_list:\n",
    "        policy_dqn = load_pretrained_dqn(f\"pretrained_dqns/policy_net_{env_noise}.pth\", device)\n",
    "        if env_noise > 0.0:\n",
    "                environment = RandomActionWrapper(env, eps=env_noise)\n",
    "        else:\n",
    "            environment = env\n",
    "        truth_value, truth_value_ste = estimate_true_value(\n",
    "            partial(target_policy, policy_dqn=policy_dqn, epsilon=policy_noise), environment, discount=0.99, num_episodes=100, device=device\n",
    "        )\n",
    "        for seed in seed_list:\n",
    "            ### F2BMLD\n",
    "            path = f\"/home/zongchen/F2BMLD/results/f2bmld_env_noise_{env_noise}__policy_noise_{policy_noise}\"\n",
    "            path += f\"__lagrange_{lag}__stage1_reg_{reg}__stage2_reg_{reg}__treat_lr_0.001\"\n",
    "            path += f\"__instr_lr_0.001__instr_iter_10__instr_tilde_iter_10__bs_{bs_dict[env_noise]}__seed_{seed}/treatment_net.pth\"\n",
    "            treatment_net.load_state_dict(torch.load(path, map_location=device))\n",
    "\n",
    "            estimate_value = eval(environment, partial(target_policy, policy_dqn=policy_dqn, epsilon=policy_noise), treatment_net, \n",
    "                                    num_init_samples=1000, device=device)\n",
    "\n",
    "            # print(truth_value, truth_value_ste)\n",
    "            # print(estimate_value)\n",
    "            \n",
    "            f2bmld_dict[env_noise][seed] = np.abs(estimate_value - truth_value)"
   ]
  },
  {
   "cell_type": "code",
   "execution_count": null,
   "id": "d5765e8b",
   "metadata": {},
   "outputs": [
    {
     "name": "stderr",
     "output_type": "stream",
     "text": [
      "100%|██████████| 100/100 [00:10<00:00,  9.22it/s]\n",
      "100%|██████████| 1000/1000 [00:00<00:00, 2551.04it/s]\n",
      "100%|██████████| 1000/1000 [00:00<00:00, 2573.55it/s]\n",
      "100%|██████████| 1000/1000 [00:00<00:00, 2575.29it/s]\n",
      "100%|██████████| 1000/1000 [00:00<00:00, 2577.57it/s]\n",
      "100%|██████████| 1000/1000 [00:00<00:00, 2574.02it/s]\n",
      "100%|██████████| 100/100 [00:11<00:00,  9.08it/s]\n",
      "100%|██████████| 1000/1000 [00:00<00:00, 2550.02it/s]\n",
      "100%|██████████| 1000/1000 [00:00<00:00, 2580.99it/s]\n",
      "100%|██████████| 1000/1000 [00:00<00:00, 2587.85it/s]\n",
      "100%|██████████| 1000/1000 [00:00<00:00, 2590.41it/s]\n",
      "100%|██████████| 1000/1000 [00:00<00:00, 2597.18it/s]\n",
      "100%|██████████| 100/100 [00:11<00:00,  9.07it/s]\n",
      "100%|██████████| 1000/1000 [00:00<00:00, 2553.29it/s]\n",
      "100%|██████████| 1000/1000 [00:00<00:00, 2550.49it/s]\n",
      "100%|██████████| 1000/1000 [00:00<00:00, 2554.47it/s]\n",
      "100%|██████████| 1000/1000 [00:00<00:00, 2548.42it/s]\n",
      "100%|██████████| 1000/1000 [00:00<00:00, 2551.26it/s]\n",
      "100%|██████████| 100/100 [00:10<00:00,  9.98it/s]\n",
      "100%|██████████| 1000/1000 [00:00<00:00, 2553.63it/s]\n",
      "100%|██████████| 1000/1000 [00:00<00:00, 2555.36it/s]\n",
      "100%|██████████| 1000/1000 [00:00<00:00, 2551.70it/s]\n",
      "100%|██████████| 1000/1000 [00:00<00:00, 2553.28it/s]\n",
      "100%|██████████| 1000/1000 [00:00<00:00, 2552.09it/s]\n",
      "100%|██████████| 100/100 [00:07<00:00, 13.77it/s]\n",
      "100%|██████████| 1000/1000 [00:00<00:00, 2552.66it/s]\n",
      "100%|██████████| 1000/1000 [00:00<00:00, 2557.16it/s]\n",
      "100%|██████████| 1000/1000 [00:00<00:00, 2555.97it/s]\n",
      "100%|██████████| 1000/1000 [00:00<00:00, 2553.48it/s]\n",
      "100%|██████████| 1000/1000 [00:00<00:00, 2554.22it/s]\n"
     ]
    }
   ],
   "source": [
    "seed_list = [0, 1, 2, 3, 4]\n",
    "env_noise_list = [0.0, 0.1, 0.2, 0.3, 0.4]\n",
    "policy_noise_list = [0.0]\n",
    "# reg = \"0.0001\"\n",
    "reg = \"1e-05\"\n",
    "lag = 0.3\n",
    "\n",
    "dfiv_dict = {env_noise: np.array([0.] * len(seed_list)) for env_noise in env_noise_list}\n",
    "\n",
    "\n",
    "for env_noise in env_noise_list:\n",
    "    for policy_noise in policy_noise_list:\n",
    "        policy_dqn = load_pretrained_dqn(f\"pretrained_dqns/policy_net_{env_noise}.pth\", device)\n",
    "        if env_noise > 0.0:\n",
    "                environment = RandomActionWrapper(env, eps=env_noise)\n",
    "        else:\n",
    "            environment = env\n",
    "        truth_value, truth_value_ste = estimate_true_value(\n",
    "            partial(target_policy, policy_dqn=policy_dqn, epsilon=policy_noise), environment, discount=0.99, num_episodes=100, device=device\n",
    "        )\n",
    "        for seed in seed_list:\n",
    "            ### DFIV\n",
    "            path = f\"/home/zongchen/F2BMLD/results/dfiv_env_noise_{env_noise}__policy_noise_{policy_noise}\"\n",
    "            path += f\"_seed_{seed}/value_func.pth\"\n",
    "            value_func.load_state_dict(torch.load(path, map_location=device))\n",
    "\n",
    "            estimate_value = eval(environment, partial(target_policy, policy_dqn=policy_dqn, epsilon=policy_noise), value_func, \n",
    "                                    num_init_samples=1000, device=device)\n",
    "\n",
    "            # print(truth_value, truth_value_ste)\n",
    "            # print(estimate_value)\n",
    "\n",
    "            dfiv_dict[env_noise][seed] = np.abs(estimate_value - truth_value)\n",
    "            "
   ]
  },
  {
   "cell_type": "code",
   "execution_count": null,
   "id": "4ace2833",
   "metadata": {},
   "outputs": [
    {
     "data": {
      "image/png": "[encoded data removed]",
      "text/plain": [
       "<Figure size 1000x600 with 1 Axes>"
      ]
     },
     "metadata": {},
     "output_type": "display_data"
    }
   ],
   "source": [
    "import matplotlib.pyplot as plt\n",
    "import numpy as np\n",
    "\n",
    "# Prepare data\n",
    "labels = list(f2bmld_dict.keys())\n",
    "data_f2bmld = [f2bmld_dict[key] for key in labels]\n",
    "data_dfiv = [dfiv_dict[key] for key in labels]\n",
    "\n",
    "# Positions for boxplots\n",
    "x = np.arange(len(labels))\n",
    "width = 0.35\n",
    "\n",
    "plt.figure(figsize=(10, 6))\n",
    "\n",
    "# Boxplots side-by-side\n",
    "bp1 = plt.boxplot(data_f2bmld, positions=x - width/2, widths=0.3, patch_artist=True,\n",
    "                  boxprops=dict(facecolor=\"skyblue\", color=\"blue\"),\n",
    "                  medianprops=dict(color=\"blue\"),\n",
    "                  whiskerprops=dict(color=\"blue\"),\n",
    "                  capprops=dict(color=\"blue\"))\n",
    "\n",
    "bp2 = plt.boxplot(data_dfiv, positions=x + width/2, widths=0.3, patch_artist=True,\n",
    "                  boxprops=dict(facecolor=\"lightcoral\", color=\"red\"),\n",
    "                  medianprops=dict(color=\"red\"),\n",
    "                  whiskerprops=dict(color=\"red\"),\n",
    "                  capprops=dict(color=\"red\"))\n",
    "\n",
    "# X-axis labels\n",
    "plt.xticks(x, labels)\n",
    "\n",
    "plt.xlabel(\"Environment Noise\")\n",
    "plt.ylabel(\"Absolute Error\")\n",
    "plt.yscale(\"log\")\n",
    "plt.title(\"Offline Policy Evaluation\")\n",
    "plt.grid(True, axis=\"y\", linestyle=\"--\", alpha=0.6)\n",
    "\n",
    "# Add legend\n",
    "plt.legend([bp1[\"boxes\"][0], bp2[\"boxes\"][0]], [\"F2BMLD\", \"DFIV\"], loc=\"upper left\")\n",
    "\n",
    "plt.show()\n"
   ]
  },
  {
   "cell_type": "code",
   "execution_count": null,
   "id": "21857a8d",
   "metadata": {},
   "outputs": [
    {
     "data": {
      "text/plain": [
       "array([29.37890142,  6.42893196, 27.41921717, 14.30792134, 30.04547866])"
      ]
     },
     "execution_count": 7,
     "metadata": {},
     "output_type": "execute_result"
    }
   ],
   "source": [
    "dfiv_dict[env_noise]"
   ]
  },
  {
   "cell_type": "code",
   "execution_count": null,
   "id": "c1b6154d",
   "metadata": {},
   "outputs": [
    {
     "data": {
      "text/plain": [
       "np.float64(30.045478659977064)"
      ]
     },
     "execution_count": 8,
     "metadata": {},
     "output_type": "execute_result"
    }
   ],
   "source": [
    "np.abs(estimate_value - truth_value)"
   ]
  }
 ],
 "metadata": {
  "kernelspec": {
   "display_name": "F2BMLD",
   "language": "python",
   "name": "python3"
  },
  "language_info": {
   "codemirror_mode": {
    "name": "ipython",
    "version": 3
   },
   "file_extension": ".py",
   "mimetype": "text/x-python",
   "name": "python",
   "nbconvert_exporter": "python",
   "pygments_lexer": "ipython3",
   "version": "3.10.18"
  }
 },
 "nbformat": 4,
 "nbformat_minor": 5
}
